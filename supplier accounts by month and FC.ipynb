{
 "cells": [
  {
   "cell_type": "code",
   "execution_count": 1,
   "id": "e6a987bf-7653-4778-98f0-73b5c3e7909b",
   "metadata": {},
   "outputs": [],
   "source": [
    "import pandas as pd\n",
    "import datetime as dt\n",
    "import ast\n",
    "import os\n",
    "import warnings\n",
    "import zipfile\n",
    "\n",
    "import openpyxl\n",
    "from openpyxl.styles import Font, PatternFill\n",
    "import openpyxl.utils\n",
    "\n",
    "\n",
    "\n",
    "warnings.filterwarnings('ignore')\n",
    "pd.options.display.max_columns=100"
   ]
  },
  {
   "cell_type": "code",
   "execution_count": 2,
   "id": "da85c442",
   "metadata": {},
   "outputs": [],
   "source": [
    "path=r'C:\\Users\\berid\\OneDrive\\Desktop\\zooplus'"
   ]
  },
  {
   "cell_type": "code",
   "execution_count": 3,
   "id": "22ed7a37-a28a-4c3e-ad45-5885c6e8ff6e",
   "metadata": {},
   "outputs": [
    {
     "name": "stdout",
     "output_type": "stream",
     "text": [
      "CPU times: total: 375 ms\n",
      "Wall time: 5.56 s\n"
     ]
    }
   ],
   "source": [
    "%%time\n",
    "ov=pd.read_excel(os.path.join(path,'Pallets OV 2024 March.xlsx'))"
   ]
  },
  {
   "cell_type": "code",
   "execution_count": 4,
   "id": "ab639624-c36d-478f-a922-df155dc35212",
   "metadata": {},
   "outputs": [],
   "source": [
    "supplier_dict = ast.literal_eval(open(os.path.join(path,'supplier_dict.txt'),'r').read())"
   ]
  },
  {
   "cell_type": "markdown",
   "id": "d1ac5f06-2481-456a-b15e-204a3760ca2c",
   "metadata": {},
   "source": [
    "# Create supplier accounts"
   ]
  },
  {
   "cell_type": "code",
   "execution_count": 5,
   "id": "ac8b7f15-b9cd-404a-966d-aa9fbff6f051",
   "metadata": {},
   "outputs": [],
   "source": [
    "ov['Supplier']=ov['Supplier'].str.strip()\n",
    "ov['Unloading date']=pd.to_datetime(ov['Unloading date'],errors='coerce')"
   ]
  },
  {
   "cell_type": "code",
   "execution_count": 6,
   "id": "7407afff-5b55-4962-9b3c-7a71c4447049",
   "metadata": {},
   "outputs": [
    {
     "data": {
      "text/plain": [
       "Unloading date         0\n",
       "Month                  0\n",
       "Reception Warehouse    0\n",
       "dtype: int64"
      ]
     },
     "execution_count": 6,
     "metadata": {},
     "output_type": "execute_result"
    }
   ],
   "source": [
    "ov.isna().sum()[ov.isna().sum()==0]"
   ]
  },
  {
   "cell_type": "code",
   "execution_count": 7,
   "id": "a4c15d6f-3e23-4621-adfa-1d9c0b0d3a5f",
   "metadata": {},
   "outputs": [],
   "source": [
    "#clean directory\n",
    "\n",
    "for file in os.listdir(os.path.join(path,'supplier pallet accounts/')):\n",
    "    if file.endswith('xlsx'):\n",
    "        file_full_name=os.path.join(path,'supplier pallet accounts',file)\n",
    "        os.remove(file_full_name)"
   ]
  },
  {
   "cell_type": "code",
   "execution_count": 8,
   "id": "1cc34818-3402-4dcd-8f5c-b50fba719143",
   "metadata": {},
   "outputs": [
    {
     "name": "stdout",
     "output_type": "stream",
     "text": [
      "Yarrahfoodnatulze)era)\r"
     ]
    }
   ],
   "source": [
    "#add files to directory\n",
    "\n",
    "for supplier,keyword in supplier_dict.items():\n",
    "    data=ov[ov[\"Supplier\"].str.contains(keyword,na=False,case=False,regex=True)]\n",
    "    data.to_excel(os.path.join(path,'supplier pallet accounts',f\"zooplus pallet acc 03-2024 {str(supplier)}.xlsx\"),index=False) #month index\n",
    "    print(supplier,end='\\r')"
   ]
  },
  {
   "cell_type": "code",
   "execution_count": 9,
   "id": "823bfa31-a1cf-4037-bdc4-383e9803baf0",
   "metadata": {},
   "outputs": [],
   "source": [
    "month_dict = {1:'January', 2:'February', 3:'March', 4:'April', 5:'May', 6:'June', 7:'July', 8:'August', 9:'September', 10:'October', 11:'November', 12:'December'}"
   ]
  },
  {
   "cell_type": "markdown",
   "id": "4de64f69-9143-48ee-873b-f4563c4308eb",
   "metadata": {},
   "source": [
    "# All Pallet Accounts"
   ]
  },
  {
   "cell_type": "markdown",
   "id": "d9ba237f-077b-4661-a95e-f3809b6fdaa3",
   "metadata": {},
   "source": [
    "# save as zipfile\n",
    "\n",
    "zip_file_name = 'supplier data/all_pallet accounts for current month.zip'\n",
    "files_directory='supplier pallet accounts/'\n",
    "\n",
    "with zipfile.ZipFile(zip_file_name, 'w') as zip_file:\n",
    "    for file_name in os.listdir(files_directory):\n",
    "        file_path = os.path.join(files_directory, file_name)\n",
    "        # Add files to the zip file\n",
    "        zip_file.write(file_path, os.path.basename(file_path))"
   ]
  },
  {
   "cell_type": "markdown",
   "id": "52deb6c2-88d7-4e5c-8596-34db750cfbd0",
   "metadata": {},
   "source": [
    "# Pallet Development"
   ]
  },
  {
   "cell_type": "code",
   "execution_count": 10,
   "id": "5d20a672-f72f-4196-879b-a2ca26f31617",
   "metadata": {},
   "outputs": [],
   "source": [
    "general_supplier_names=[]\n",
    "\n",
    "for supplier_name in ov['Supplier']:\n",
    "    try:\n",
    "        mylist=[supplier if keyword.lower() in str(supplier_name).lower() else None for supplier,keyword in supplier_dict.items()]\n",
    "        myvalue=[i for i in mylist if i][0]\n",
    "        general_supplier_names.append(myvalue)\n",
    "    except:\n",
    "        general_supplier_names.append(None)\n",
    "        \n",
    "ov=ov.drop(columns='General Supplier Name',errors='ignore')       \n",
    "ov.insert(ov.columns.get_loc('Supplier')+1,\n",
    "         'General Supplier Name',\n",
    "         general_supplier_names)\n",
    "\n",
    "\n",
    "necessary_columns=['Purchase order number','Unloading date','Month','Supplier','General Supplier Name','Reception Warehouse','EUR-delivered','EUR-damaged','EUR-returned']\n",
    "ov[necessary_columns].to_excel(os.path.join(path,'pallet_development.xlsx'),index=False)"
   ]
  },
  {
   "cell_type": "markdown",
   "id": "4555dfbf-4fc4-4810-9fdf-9f84c7fb7a02",
   "metadata": {},
   "source": [
    "# Balance Per Supplier"
   ]
  },
  {
   "cell_type": "code",
   "execution_count": 11,
   "id": "76bc864f-056b-4dbc-8fe5-dfb71005a067",
   "metadata": {},
   "outputs": [
    {
     "name": "stdout",
     "output_type": "stream",
     "text": [
      "zooplus pallet acc 03-2024 Yarrah.xlsxxlsxxsx.xlsxxlsx\r"
     ]
    }
   ],
   "source": [
    "balance_dictionary={}\n",
    "for file in sorted(os.listdir(os.path.join(path,'supplier pallet accounts')))[1:]:\n",
    "    supplier=file.split('.xls')[0].split('2024')[-1].strip()\n",
    "    df=pd.read_excel(os.path.join(path,'supplier pallet accounts',file),sheet_name='Sheet1')\n",
    "    Balance=df['EUR-returned'].sum()-df['EUR-delivered'].sum()\n",
    "    #df_current_month=df.query('Month==\"November\" and `Reception Warehouse`!=\"Balance 2022\"') # change value for different month\n",
    "    #pallets_delivered_last_month=df_current_month['EUR-delivered'].sum()\n",
    "    #pallets_returned_last_month=df_current_month['EUR-returned'].sum()\n",
    "    \n",
    "    balance_dictionary[supplier]=[Balance]#,pallets_delivered_last_month,pallets_returned_last_month]\n",
    "    print(file,end='\\r')"
   ]
  },
  {
   "cell_type": "code",
   "execution_count": 12,
   "id": "691f5651-33fe-4cd1-8421-797bf36501a8",
   "metadata": {},
   "outputs": [],
   "source": [
    "balance_csv=pd.DataFrame(balance_dictionary).T\n",
    "balance_csv=balance_csv.sort_index()\n",
    "balance_csv.columns=['Balance']#,'Delivered','Returned']\n",
    "balance_csv.to_csv(os.path.join(path,'Balances.csv'),index=True)"
   ]
  },
  {
   "cell_type": "markdown",
   "id": "7eeb0221-9522-4236-b0fe-852fc67250db",
   "metadata": {},
   "source": [
    "# Openpyxl"
   ]
  },
  {
   "cell_type": "markdown",
   "id": "e559a56a",
   "metadata": {},
   "source": [
    "Add table format and a new sheet"
   ]
  },
  {
   "cell_type": "code",
   "execution_count": 13,
   "id": "fb1390a0",
   "metadata": {},
   "outputs": [],
   "source": [
    "\n",
    "\n",
    "def add_table_format_and_overview_worksheet(file_path):\n",
    "    workbook=openpyxl.load_workbook(file_path)\n",
    "    worksheet=workbook['Sheet1']\n",
    "\n",
    "    #add table format\n",
    "    max_row=worksheet.max_row\n",
    "    max_col=worksheet.max_column\n",
    "    table_range=f'A1:{openpyxl.utils.get_column_letter(max_col)}{max_row}'\n",
    "    style=openpyxl.worksheet.table.TableStyleInfo(name=\"TableStyleMedium9\", showFirstColumn=False,showLastColumn=False, showRowStripes=True, showColumnStripes=True)\n",
    "    table=openpyxl.worksheet.table.Table(displayName='Table1',ref=table_range,tableStyleInfo=style)\n",
    "\n",
    "    if 'Table1' in worksheet.tables:\n",
    "        del worksheet.tables['Table1']\n",
    "    if max_row>1:\n",
    "        worksheet.add_table(table)\n",
    "\n",
    "    #add overview worksheet\n",
    "    if 'Overview' in workbook.sheetnames:\n",
    "        workbook.remove(workbook['Overview'])\n",
    "    workbook.create_sheet(title='Overview')\n",
    "\n",
    "    #save workbook\n",
    "    workbook.save(file_path)"
   ]
  },
  {
   "cell_type": "code",
   "execution_count": 14,
   "id": "05ab1778",
   "metadata": {},
   "outputs": [],
   "source": [
    "for file in os.listdir(os.path.join(path,'supplier pallet accounts')):\n",
    "    file_path=os.path.join(path,'supplier pallet accounts',file)\n",
    "    try:\n",
    "        add_table_format_and_overview_worksheet(file_path)\n",
    "    except:\n",
    "        print(file)"
   ]
  },
  {
   "cell_type": "markdown",
   "id": "6b4392ff",
   "metadata": {},
   "source": [
    "Add pivot table"
   ]
  },
  {
   "cell_type": "code",
   "execution_count": 15,
   "id": "61995f4e",
   "metadata": {},
   "outputs": [],
   "source": [
    "import win32com.client as win32\n",
    "import pythoncom\n",
    "\n",
    "\n",
    "pythoncom.CoInitialize()\n",
    "\n",
    "#launch excel application\n",
    "xlApp = win32.Dispatch(\"Excel.Application\")\n",
    "xlApp.Visible = False #False"
   ]
  },
  {
   "cell_type": "code",
   "execution_count": 16,
   "id": "05a30e7a",
   "metadata": {},
   "outputs": [],
   "source": [
    "def add_pivot_table(file_path):\n",
    "\n",
    "    wb = xlApp.Workbooks.Open(file_path)\n",
    "\n",
    "    #reference worksheets\n",
    "    ws_data = wb.Worksheets(\"Sheet1\")\n",
    "    ws_report = wb.Worksheets(\"Overview\") \n",
    "\n",
    "    #create pivot table cache connection \n",
    "    pt_cache = wb.PivotCaches().Create(1,ws_data.Range(\"A1\").CurrentRegion)\n",
    "\n",
    "    #create pivot table designer/editor\n",
    "    pt = pt_cache.CreatePivotTable(ws_report.Range(\"A3\"), \"myreport_summary\")\n",
    "\n",
    "    #row and column grandtotals\n",
    "    pt.ColumnGrand = True\n",
    "    pt.RowGrand = True\n",
    "\n",
    "    #change report layout\n",
    "    pt.RowAxisLayout(1)   #RowAxisLayout(1) for tabular form\n",
    "\n",
    "    pt.TableStyle2 = \"pivotStyleMedium9\"  \n",
    "\n",
    "\n",
    "    # Add row field - Reception Warehouse\n",
    "    field_rows = pt.PivotFields(\"Reception Warehouse\")\n",
    "    field_rows.Orientation = 1  # 1 for xlRowField\n",
    "\n",
    "    # Add value field (sum of EUR-delivered, EUR-damaged, EUR-returned)\n",
    "    field_values = pt.PivotFields(\"EUR-delivered\")\n",
    "    field_values.Orientation = 4  # 4 for xlDataField\n",
    "    field_values.Function = -4157  # -4157 for xlSum\n",
    "    field_values.NumberFormat = \"#,##0\"  # \"#,##0\" for number format\n",
    "\n",
    "    field_damaged = pt.PivotFields(\"EUR-damaged\")\n",
    "    field_damaged.Orientation = 4  # xlDataField\n",
    "    field_damaged.Function = -4157  # xlSum\n",
    "    field_damaged.NumberFormat = \"#,##0\"  # Number format\n",
    "\n",
    "    field_returned = pt.PivotFields(\"EUR-returned\")\n",
    "    field_returned.Orientation = 4  # xlDataField\n",
    "    field_returned.Function = -4157  # xlSum\n",
    "    field_returned.NumberFormat = \"#,##0\"  # Number format\n",
    "\n",
    "    # Add Page field for filtering - Month\n",
    "    field_filter = pt.PivotFields(\"Month\")\n",
    "    field_filter.Orientation = 3  # 3 for xlPageField\n",
    "\n",
    "    # Refresh the PivotTable to reflect the changes\n",
    "    pt.RefreshTable()\n",
    "\n",
    "    wb.save(file_path)"
   ]
  },
  {
   "cell_type": "code",
   "execution_count": 17,
   "id": "891d042e",
   "metadata": {},
   "outputs": [
    {
     "name": "stdout",
     "output_type": "stream",
     "text": [
      "zooplus pallet acc 03-2024 Yarrah.xlsxxlsxxsx.xlsxxlsx\r"
     ]
    }
   ],
   "source": [
    "for file in os.listdir(os.path.join(path,'supplier pallet accounts')):\n",
    "    file_path=os.path.join(path,'supplier pallet accounts',file)\n",
    "    try:\n",
    "        add_pivot_table(file_path)\n",
    "    except:\n",
    "        print(file)"
   ]
  },
  {
   "cell_type": "code",
   "execution_count": 18,
   "id": "7a67270e",
   "metadata": {},
   "outputs": [],
   "source": [
    "xlApp.Quit() #close xlApp"
   ]
  },
  {
   "cell_type": "markdown",
   "id": "a2cf1ea6",
   "metadata": {},
   "source": [
    "Add balance cell"
   ]
  },
  {
   "cell_type": "code",
   "execution_count": 19,
   "id": "b71ffb0e",
   "metadata": {},
   "outputs": [],
   "source": [
    "from openpyxl.styles import Font, PatternFill\n",
    "\n",
    "\n",
    "def add_balance_cell(file_path):\n",
    "\n",
    "    workbook=openpyxl.load_workbook(file_path)\n",
    "    worksheet=workbook['Sheet1']\n",
    "    max_row=worksheet.max_row\n",
    "    max_col=worksheet.max_column\n",
    "\n",
    "    for col in range(1,max_col+1):\n",
    "        if worksheet.cell(row=1,column=col).value==\"EUR-delivered\":\n",
    "            eur_delivered_col_index=col\n",
    "        elif worksheet.cell(row=1,column=col).value==\"EUR-returned\":\n",
    "            eur_returned_col_index=col\n",
    "        elif worksheet.cell(row=1,column=col).value==\"EUR-damaged\":\n",
    "            eur_damaged_col_index=col\n",
    "\n",
    "    eur_delivered_sum=0\n",
    "    eur_returned_sum=0\n",
    "    eur_damaged_sum=0\n",
    "    for row in range(2,max_row+1):\n",
    "        eur_delivered_cell_value=worksheet.cell(row=row,column=eur_delivered_col_index).value\n",
    "        eur_returned_cell_value=worksheet.cell(row=row,column=eur_returned_col_index).value\n",
    "        eur_damaged_cell_value=worksheet.cell(row=row,column=eur_damaged_col_index).value\n",
    "\n",
    "        try:\n",
    "            eur_delivered_sum+=eur_delivered_cell_value\n",
    "        except:\n",
    "            pass\n",
    "\n",
    "        try:\n",
    "            eur_returned_sum+=eur_returned_cell_value\n",
    "        except:\n",
    "            pass\n",
    "\n",
    "        try:\n",
    "            eur_damaged_sum+=eur_damaged_cell_value\n",
    "        except:\n",
    "            pass\n",
    "    balance=eur_returned_sum-eur_delivered_sum\n",
    "\n",
    "    worksheet=workbook['Overview']\n",
    "    balance_cell=worksheet.cell(row=25,column=1)\n",
    "    if balance_cell.value:\n",
    "        balance_cell.value=None\n",
    "        balance_cell.font=Font()\n",
    "\n",
    "    yellow_fill = PatternFill(start_color='FFFF00', end_color='FFFF00', fill_type='solid')\n",
    "    green_fill = PatternFill(start_color='00FF00', end_color='00FF00', fill_type='solid')\n",
    "\n",
    "    balance_cell.value = balance\n",
    "    balance_cell.font = Font(bold=True,color='FF0000') if balance<=0 else Font(bold=True,color=None)\n",
    "    balance_cell.fill=yellow_fill if balance<=0 else green_fill\n",
    "\n",
    "    workbook.save(file_path)"
   ]
  },
  {
   "cell_type": "code",
   "execution_count": 20,
   "id": "f0b87d7a",
   "metadata": {},
   "outputs": [
    {
     "name": "stdout",
     "output_type": "stream",
     "text": [
      "zooplus pallet acc 03-2024 Yarrah.xlsxxlsxxsx.xlsxxlsx\r"
     ]
    },
    {
     "data": {
      "text/plain": [
       "123"
      ]
     },
     "execution_count": 20,
     "metadata": {},
     "output_type": "execute_result"
    }
   ],
   "source": [
    "for file in os.listdir(os.path.join(path,'supplier pallet accounts')):\n",
    "    file_path=os.path.join(path,'supplier pallet accounts',file)\n",
    "    try:\n",
    "        add_balance_cell(file_path)\n",
    "    except:\n",
    "        print(file)"
   ]
  },
  {
   "cell_type": "code",
   "execution_count": null,
   "id": "8a78922b",
   "metadata": {},
   "outputs": [],
   "source": []
  }
 ],
 "metadata": {
  "kernelspec": {
   "display_name": "Python 3",
   "language": "python",
   "name": "python3"
  },
  "language_info": {
   "codemirror_mode": {
    "name": "ipython",
    "version": 3
   },
   "file_extension": ".py",
   "mimetype": "text/x-python",
   "name": "python",
   "nbconvert_exporter": "python",
   "pygments_lexer": "ipython3",
   "version": "3.11.3"
  }
 },
 "nbformat": 4,
 "nbformat_minor": 5
}
