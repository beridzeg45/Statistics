{
 "cells": [
  {
   "cell_type": "code",
   "execution_count": 1,
   "id": "43cf80fd",
   "metadata": {},
   "outputs": [],
   "source": [
    "import pandas as pd\n",
    "import os\n",
    "import openpyxl\n",
    "\n",
    "pd.options.display.max_columns=100"
   ]
  },
  {
   "cell_type": "code",
   "execution_count": 2,
   "id": "92bdd9cf",
   "metadata": {},
   "outputs": [],
   "source": [
    "cw=15 #change cw\n",
    "\n",
    "path=os.path.join(r'C:\\Users\\gsg_giorgibe\\Desktop',f'CW{cw}_2024')"
   ]
  },
  {
   "cell_type": "code",
   "execution_count": 4,
   "id": "cb9fc4eb",
   "metadata": {},
   "outputs": [],
   "source": [
    "df=pd.read_excel(os.path.join(path,'Parcel Details R.xlsx'),sheet_name='Parcel Details R')\n",
    "\n",
    "df['FC']=df['FC'].astype(str)\n",
    "df['CW']=df['CW'].astype(int)\n",
    "df['CONF_LITTER_WEIGHT']=df['CONF_LITTER_WEIGHT'].astype(int)\n",
    "id_columns=df.columns[df.columns.str.contains('ID',regex=True)]\n",
    "df[id_columns]=df[id_columns].astype(str)\n",
    "\n",
    "df=df[df['CW']==cw]  \n",
    " \n",
    "FCs_dictionary={\n",
    "'328':'ANR',\n",
    "'329':'BHX',\n",
    "'344':'BOR',\n",
    "'343':'BTS',\n",
    "'342':'BUD',\n",
    "'327':'CHA',\n",
    "'325':'HOE',\n",
    "'330':'JIR',\n",
    "'334':'KRO',\n",
    "'336':'MIL',\n",
    "'335':'MAD',\n",
    "'324':'TIL',\n",
    "'326':'WRO'\n",
    "}"
   ]
  },
  {
   "cell_type": "code",
   "execution_count": 5,
   "id": "fa5189d1",
   "metadata": {},
   "outputs": [],
   "source": [
    "df_orig=df[df['BOX']=='ORIG']\n",
    "df_orig.to_excel(os.path.join(path,f'Parcel weight difference CW{cw}-2024_Orig.xlsx'),index=False)"
   ]
  },
  {
   "cell_type": "code",
   "execution_count": 6,
   "id": "fbe150c2",
   "metadata": {},
   "outputs": [],
   "source": [
    "df_fcs=df[(df['BOX']!='ORIG')&(df['CONF_LITTER_WEIGHT']==0)]"
   ]
  },
  {
   "cell_type": "code",
   "execution_count": 7,
   "id": "d4b090a4",
   "metadata": {},
   "outputs": [],
   "source": [
    "for fc_id,fc_name in FCs_dictionary.items():\n",
    "    df_fc=df_fcs[df_fcs['FC']==fc_id]\n",
    "    df_fc.to_excel(os.path.join(path,f'Parcel weight difference CW{cw}-2024_{fc_name}.xlsx'),index=False)"
   ]
  },
  {
   "cell_type": "markdown",
   "id": "c9d332e4",
   "metadata": {},
   "source": [
    "Add Table Format"
   ]
  },
  {
   "cell_type": "code",
   "execution_count": 8,
   "id": "19963688",
   "metadata": {},
   "outputs": [],
   "source": [
    "def add_table_format(xlsx_path):\n",
    "    try:\n",
    "        workbook=openpyxl.load_workbook(xlsx_path)\n",
    "        worksheet=workbook['Sheet1']\n",
    "\n",
    "        max_col=worksheet.max_column\n",
    "        max_row=worksheet.max_row\n",
    "        table_range=f'A1:{openpyxl.utils.get_column_letter(max_col)}{max_row}'\n",
    "        style=openpyxl.worksheet.table.TableStyleInfo(name=\"TableStyleMedium9\", showFirstColumn=False,showLastColumn=False, showRowStripes=True, showColumnStripes=True)\n",
    "        table=openpyxl.worksheet.table.Table(displayName='Table1',ref=table_range,tableStyleInfo=style)\n",
    "\n",
    "        if table in worksheet.tables:\n",
    "            del worksheet.tables['Table1']\n",
    "\n",
    "        worksheet.add_table(table) if max_row>1 else None\n",
    "\n",
    "        workbook.save(xlsx_path)\n",
    "    except:\n",
    "        pass"
   ]
  },
  {
   "cell_type": "code",
   "execution_count": 9,
   "id": "95a9a2ee",
   "metadata": {},
   "outputs": [
    {
     "name": "stdout",
     "output_type": "stream",
     "text": [
      "Parcel weight difference CW15-2024_ANR.xlsx\n",
      "Parcel weight difference CW15-2024_BHX.xlsx\n",
      "Parcel weight difference CW15-2024_BOR.xlsx\n",
      "Parcel weight difference CW15-2024_BTS.xlsx\n",
      "Parcel weight difference CW15-2024_BUD.xlsx\n",
      "Parcel weight difference CW15-2024_CHA.xlsx\n",
      "Parcel weight difference CW15-2024_HOE.xlsx\n",
      "Parcel weight difference CW15-2024_JIR.xlsx\n",
      "Parcel weight difference CW15-2024_KRO.xlsx\n",
      "Parcel weight difference CW15-2024_MAD.xlsx\n",
      "Parcel weight difference CW15-2024_MIL.xlsx\n",
      "Parcel weight difference CW15-2024_Orig.xlsx\n",
      "Parcel weight difference CW15-2024_TIL.xlsx\n",
      "Parcel weight difference CW15-2024_WRO.xlsx\n"
     ]
    }
   ],
   "source": [
    "for xlsx in os.listdir(path):\n",
    "    if xlsx.startswith('Parcel weight difference'):\n",
    "        xlsx_path=os.path.join(path,xlsx)\n",
    "        add_table_format(xlsx_path)\n",
    "        print(xlsx)\n",
    "        "
   ]
  },
  {
   "cell_type": "code",
   "execution_count": null,
   "id": "9b2cd023",
   "metadata": {},
   "outputs": [],
   "source": []
  }
 ],
 "metadata": {
  "kernelspec": {
   "display_name": "Python 3 (ipykernel)",
   "language": "python",
   "name": "python3"
  },
  "language_info": {
   "codemirror_mode": {
    "name": "ipython",
    "version": 3
   },
   "file_extension": ".py",
   "mimetype": "text/x-python",
   "name": "python",
   "nbconvert_exporter": "python",
   "pygments_lexer": "ipython3",
   "version": "3.11.3"
  }
 },
 "nbformat": 4,
 "nbformat_minor": 5
}
